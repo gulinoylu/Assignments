{
 "cells": [
  {
   "cell_type": "markdown",
   "metadata": {},
   "source": [
    "# How does life expectancy differences between male and female affect pension redistribution under DB and DC pension schemes?"
   ]
  },
  {
   "cell_type": "markdown",
   "metadata": {},
   "source": [
    "* Melody Wang (471596)\n",
    "* Gulin Oylu (930248)"
   ]
  },
  {
   "cell_type": "markdown",
   "metadata": {},
   "source": [
    "## Research Question"
   ]
  },
  {
   "cell_type": "markdown",
   "metadata": {},
   "source": [
    "As we may know, males and females have different life expectancies. On average, females live longer than males, and these differences will have an effect on their pension redistribution. This research delves into the topic of gender differences regarding pension contributions and benefit redistribution. We will be looking at how these life expectancy differences between male and female affect the redistribution under defined benefit and defined contribution schemes?"
   ]
  },
  {
   "cell_type": "markdown",
   "metadata": {},
   "source": [
    "## Motivation\n"
   ]
  },
  {
   "cell_type": "markdown",
   "metadata": {},
   "source": [
    "Statistically speaking, females live longer than males due to biological and mainly behavioral differences between the two sexes. Males have shorter life expectancy could be due to the perpetual habit of smoking or perhaps heavier labor. Females on the other hand could be less exposed to those problems. \n",
    "\n",
    "It is important to note that there are signs of life expectancy convergence between the two sexes. However, the convergence force is not strong enough to assume difference between sexes do not pose an effect on pension redistributions. Therefore, we will continue to model based upon the life expectancy differences.\n",
    "\n",
    "As time progresses, the structure of the society is altering in which demographic and cultural changes occur such as ageing, feminism, or low fertility. What sets this research apart is that we take these modern changes into consideration, where we allow for rising number of same sex marriages and singles (who will not marry at all) in the model, so that their survivor pension, widow/widower pension, or old age pension may differ based upon their life expectancy of their partners. For instance, if in a heterosexual relationship the husband dies due to his (predicted) shorter life expectancy, the wife gets widow pension benefits as a result. This means that the expected value of their pension benefit in this case changes. The intragenerational transfer from male to female or female to male change as well.\n"
   ]
  },
  {
   "cell_type": "markdown",
   "metadata": {},
   "source": [
    "## Method"
   ]
  },
  {
   "cell_type": "markdown",
   "metadata": {},
   "source": [
    "This research uses the method of generational accounting with the micro perspective of a single generation. Generational accounting generally looks at accounting balances within current and future generations. In this research, we will analyze whether the current taxation scheme that benefit our society will produce an unfair tax burden for members of the two sexes in the same generational cohort. The purpose of this accounting method is to achieve balance between males and females, where it allows for fiscal sustainability. Intragenerational transfers between the sexes are apparent. The transfers will be a zero-sum game[(Auerbach and Kotlikoff, 1991)](http://www.nber.org/chapters/c11269.pdf).\n",
    "\n",
    "There are two types of pension benefits. The first one is the survivor pension, where the female gets widow pension and the male gets widower pensions if their partner is deceased. We will look at the generational account of different groups of participants, female households and male households, single account, married account. Since we assume that there’s no intergenerational transfers, some groups of the generation must transfer to the other groups of the same generation if their account is negative to maintain overall balance (zero-sum game). To clarify, if group 1 has negative generational account, zero-sum game tells us that the other groups of the same generation will have a positive account.\n",
    "\n",
    "Parameters used in the simulations are consulted with the statistics from [Worldbank](http://data.worldbank.org/indicator/SP.DYN.TO65.FE.ZS) and [US Census Bureau](https://www.census.gov/quickfacts/table/HSD410215/00).  \n",
    "\n",
    "For more detailed assumption of the generational account, please see the listed assumptions in section “Model and Assumptions”.\n"
   ]
  },
  {
   "cell_type": "markdown",
   "metadata": {},
   "source": [
    "## Model and Assumptions"
   ]
  },
  {
   "cell_type": "markdown",
   "metadata": {},
   "source": [
    "### Assumptions"
   ]
  },
  {
   "cell_type": "markdown",
   "metadata": {},
   "source": [
    "* In this model, pension fund consists of six groups of participants which are married heterosexual  male and female, married homosexual male and female, and single male and female participants.\n",
    "\n",
    "* Both genders live at leats one period and live second period with a probability which differs across genders.\n",
    "\n",
    "* Partners have the same survival probilities with the participants in the pension fund with respect to their genders.\n",
    "\n",
    "* Pension fund offers old age pension to all of its participants who survives up to the second period.\n",
    "\n",
    "* Pension fund also offers survivor benefits to its married participants' partners if participants do not survive in the second period. The amount of survivor benefit (X) is the same for both male (widow) and female (widower) participant households.\n",
    "\n"
   ]
  },
  {
   "cell_type": "markdown",
   "metadata": {},
   "source": [
    "### Table 1. Parameters\n"
   ]
  },
  {
   "cell_type": "markdown",
   "metadata": {},
   "source": [
    "|  Symbol  \t| Definition       \t|Input Name|\n",
    "|:--------:\t|------------------\t|---\t|\n",
    "| $GA_{M1}$   \t| Generational account of heterosexual male \t|Gam1|\n",
    "| $GA_{M2}$   \t| Generational account of homosexual male \t|Gam2|\n",
    "| $GA_{M3}$   \t| Generational account of single male \t|Gam3|\n",
    "| $GA_{F1}$   \t| Generational account of heterosexual female \t|Gaf1|\n",
    "| $GA_{F2}$   \t| Generational account of homosexual female \t|Gaf2|\n",
    "| $GA_{F3}$   \t| Generational account of single female \t|Gaf3|\n",
    "|$\\theta_M$ | Male's survival probability in the second period \t |tm|\n",
    "|$\\theta_F$ | Female's survival probability in the second period  |tf|\n",
    "| $N_M $ \t| Number of male participants |nm|\n",
    "| $N_F $  \t| Number of female participants \t|nf|\n",
    "| $X^{surv}$   \t| Survivor benefits (widow/widower) \t|xs|\n",
    "| $X^{old}$   \t| Old age benefits \t|xo|\n",
    "| $Z^{surv}$   \t| Survivor pension contribution \t|zs|\n",
    "| $Z^{old}$     | Old age pension contribution |zo|\n",
    "| $1+r$ | Rate of return |r|"
   ]
  },
  {
   "cell_type": "markdown",
   "metadata": {},
   "source": [
    "Male:\n",
    "\n",
    "$$GA_{M1}=\\frac{(1-\\theta_M)\\theta_FX^{surv}}{1+r}+\\frac{\\theta_MX^{old}}{1+r}-Z_{surv}-Z_{old}$$\n",
    "\n",
    "$$GA_{M2}=\\frac{(1-\\theta_M)\\theta_MX^{surv}}{1+r}+\\frac{\\theta_MX^{old}}{1+r}-Z_{surv}-Z_{old}$$\n",
    "\n",
    "$$GA_{M3}=\\frac{\\theta_MX^{old}}{1+r}-Z_{old}$$\n",
    "\n",
    "Female:\n",
    "\n",
    "$$GA_{F1}=\\frac{(1-\\theta_F)\\theta_MX^{surv}}{1+r}+\\frac{\\theta_FX^{old}}{1+r}-Z_{surv}-Z_{old}$$\n",
    "\n",
    "$$GA_{F2}=\\frac{(1-\\theta_F)\\theta_FX^{surv}}{1+r}+\\frac{\\theta_FX^{old}}{1+r}-Z_{surv}-Z_{old}$$\n",
    "\n",
    "$$GA_{F3}=\\frac{\\theta_FX^{old}}{1+r}-Z_{old}$$\n",
    "\n",
    "Full-Funding Constraint:\n",
    "\n",
    "\n",
    "\n",
    "$$Z^{old}(N_{M1}+N_{M2}+N_{M3}+N_{F1}+N_{F2}+N_{F3})+Z^{surv}(N_{M1}+N_{M2}+N_{F1}+N_{F2})\n",
    "= \n",
    "X^{old}[\\theta_M(N_{M1}+N_{M2}+N_{M3})+\\theta_F(N_{F1}+N_{F2}+N_{F3})]+X^{surv}[N_{M1}(1-\\theta_M)\\theta_F+N_{M2}(1-\\theta_M)\\theta_M+N_{F1}(1-\\theta_F)\\theta_M+N_{F2}(1-\\theta_F)\\theta_F]$$\n",
    "\n",
    "\n",
    "\n",
    "This equality means that sum of contributions of all groups of participants (heterosexual couples, homosexual couples, and singles) and returns to their contributions must equal to the expected value of the sum of survivor and old age benefits for one generation. In other words, sum of all contributions must be equal to the expected discounted value of benefits for one generation.\n"
   ]
  },
  {
   "cell_type": "markdown",
   "metadata": {},
   "source": [
    "## Results"
   ]
  },
  {
   "cell_type": "markdown",
   "metadata": {},
   "source": [
    "This simulation estimates the balance of the generational accounts of six groups of participants. Whether their accounts are possitive or negative depends upon the pension scheme, where it could be defined benefit or defined contribution. "
   ]
  },
  {
   "cell_type": "code",
   "execution_count": 1,
   "metadata": {
    "collapsed": true
   },
   "outputs": [],
   "source": [
    "import math\n",
    "import numpy as np\n",
    "import pandas as pd\n",
    "import sympy\n",
    "from sympy  import *"
   ]
  },
  {
   "cell_type": "code",
   "execution_count": 2,
   "metadata": {
    "collapsed": true
   },
   "outputs": [],
   "source": [
    "nm1= Symbol('nm1')\n",
    "nm2=  Symbol('nm2')\n",
    "nm3= Symbol('nm3')\n",
    "nf1=  Symbol('nf1')\n",
    "nf2=  Symbol('nf2')\n",
    "nf3=  Symbol('nf3')\n",
    "tf=  Symbol('tf')\n",
    "tm= Symbol('tm')\n",
    "xs= Symbol('xs')\n",
    "xo= Symbol('xo')\n",
    "r= Symbol('r')\n",
    "zs=  Symbol('zs')\n",
    "zo= Symbol('zo')\n",
    "Gam1= Symbol('Gam1')\n",
    "Gam2= Symbol('Gam2')\n",
    "Gam3= Symbol('Gam3')\n",
    "Gaf1= Symbol('Gaf1')\n",
    "Gaf2= Symbol('Gaf2')\n",
    "Gaf3= Symbol('Gaf3')"
   ]
  },
  {
   "cell_type": "markdown",
   "metadata": {},
   "source": [
    "#### Defined Benefit"
   ]
  },
  {
   "cell_type": "code",
   "execution_count": 3,
   "metadata": {
    "collapsed": false
   },
   "outputs": [
    {
     "data": {
      "text/plain": [
       "{Gaf2: (-nf1*tf**2*xs - nf1*tf*tm*xs + 2*nf1*tf*xo + nf1*tf*xs + nf1*tm*xs - 2*nf2*tf**2*xs + 2*nf2*tf*xo + 2*nf2*tf*xs + 4*nf3*tf**2*xs - 2*nf3*tf*tm*xs - nf3*tf*xo - 3*nf3*tf*xs - 2*nf3*tm**2*xs + 3*nf3*tm*xo + 3*nf3*tm*xs - nm1*tf**2*xs - nm1*tf*tm*xs + nm1*tf*xo + 2*nm1*tf*xs + nm1*tm*xo - nm2*tf**2*xs + nm2*tf*xo + nm2*tf*xs - nm2*tm**2*xs + nm2*tm*xo + nm2*tm*xs + 4*nm3*tf**2*xs - 2*nm3*tf*tm*xs - 2*nm3*tf*xo - 3*nm3*tf*xs - 2*nm3*tm**2*xs + 4*nm3*tm*xo + 3*nm3*tm*xs)/(nf1*r + nf1 + nf2*r + nf2 - 5*nf3*r - 5*nf3 + nm1*r + nm1 + nm2*r + nm2 - 5*nm3*r - 5*nm3),\n",
       " zs: (-nf1*tf**2*xs - 8*nf1*tf*tm*xs + 9*nf1*tf*xo + 2*nf1*tf*xs - 2*nf1*tm**2*xs + 3*nf1*tm*xo + 9*nf1*tm*xs - 7*nf2*tf**2*xs - 2*nf2*tf*tm*xs + 9*nf2*tf*xo + 8*nf2*tf*xs - 2*nf2*tm**2*xs + 3*nf2*tm*xo + 3*nf2*tm*xs - nf3*tf**2*xs - 2*nf3*tf*tm*xs + 9*nf3*tf*xo + 2*nf3*tf*xs - 2*nf3*tm**2*xs + 3*nf3*tm*xo + 3*nf3*tm*xs - nm1*tf**2*xs - 8*nm1*tf*tm*xs + 3*nm1*tf*xo + 8*nm1*tf*xs - 2*nm1*tm**2*xs + 9*nm1*tm*xo + 3*nm1*tm*xs - nm2*tf**2*xs - 2*nm2*tf*tm*xs + 3*nm2*tf*xo + 2*nm2*tf*xs - 8*nm2*tm**2*xs + 9*nm2*tm*xo + 9*nm2*tm*xs - nm3*tf**2*xs - 2*nm3*tf*tm*xs + 3*nm3*tf*xo + 2*nm3*tf*xs - 2*nm3*tm**2*xs + 9*nm3*tm*xo + 3*nm3*tm*xs)/(nf1*r + nf1 + nf2*r + nf2 - 5*nf3*r - 5*nf3 + nm1*r + nm1 + nm2*r + nm2 - 5*nm3*r - 5*nm3),\n",
       " Gam1: (-2*nf1*tf*tm*xs + nf1*tf*xo + nf1*tf*xs + nf1*tm*xo + nf1*tm*xs - nf2*tf**2*xs - nf2*tf*tm*xs + nf2*tf*xo + 2*nf2*tf*xs + nf2*tm*xo - nf3*tf**2*xs + 3*nf3*tf*tm*xs + 4*nf3*tf*xo - 3*nf3*tf*xs - 2*nf3*tm**2*xs - 2*nf3*tm*xo + 3*nf3*tm*xs - 2*nm1*tf*tm*xs + 2*nm1*tf*xs + 2*nm1*tm*xo - nm2*tf*tm*xs + nm2*tf*xs - nm2*tm**2*xs + 2*nm2*tm*xo + nm2*tm*xs - nm3*tf**2*xs + 3*nm3*tf*tm*xs + 3*nm3*tf*xo - 3*nm3*tf*xs - 2*nm3*tm**2*xs - nm3*tm*xo + 3*nm3*tm*xs)/(nf1*r + nf1 + nf2*r + nf2 - 5*nf3*r - 5*nf3 + nm1*r + nm1 + nm2*r + nm2 - 5*nm3*r - 5*nm3),\n",
       " Gaf3: (nf1*tf**2*xs + 7*nf1*tf*tm*xs - 7*nf1*tf*xo - 2*nf1*tf*xs + 2*nf1*tm**2*xs - 3*nf1*tm*xo - 8*nf1*tm*xs + 6*nf2*tf**2*xs + 2*nf2*tf*tm*xs - 7*nf2*tf*xo - 7*nf2*tf*xs + 2*nf2*tm**2*xs - 3*nf2*tm*xo - 3*nf2*tm*xs - 10*nf3*tf*xo + nm1*tf**2*xs + 7*nm1*tf*tm*xs - 2*nm1*tf*xo - 7*nm1*tf*xs + 2*nm1*tm**2*xs - 8*nm1*tm*xo - 3*nm1*tm*xs + nm2*tf**2*xs + 2*nm2*tf*tm*xs - 2*nm2*tf*xo - 2*nm2*tf*xs + 7*nm2*tm**2*xs - 8*nm2*tm*xo - 8*nm2*tm*xs - 5*nm3*tf*xo - 5*nm3*tm*xo)/(nf1*r + nf1 + nf2*r + nf2 - 5*nf3*r - 5*nf3 + nm1*r + nm1 + nm2*r + nm2 - 5*nm3*r - 5*nm3),\n",
       " Gam2: (-nf1*tf*tm*xs + nf1*tf*xo - nf1*tm**2*xs + nf1*tm*xo + 2*nf1*tm*xs - nf2*tf**2*xs + nf2*tf*xo + nf2*tf*xs - nf2*tm**2*xs + nf2*tm*xo + nf2*tm*xs - nf3*tf**2*xs - 2*nf3*tf*tm*xs + 4*nf3*tf*xo + 2*nf3*tf*xs + 3*nf3*tm**2*xs - 2*nf3*tm*xo - 2*nf3*tm*xs - nm1*tf*tm*xs + nm1*tf*xs - nm1*tm**2*xs + 2*nm1*tm*xo + nm1*tm*xs - 2*nm2*tm**2*xs + 2*nm2*tm*xo + 2*nm2*tm*xs - nm3*tf**2*xs - 2*nm3*tf*tm*xs + 3*nm3*tf*xo + 2*nm3*tf*xs + 3*nm3*tm**2*xs - nm3*tm*xo - 2*nm3*tm*xs)/(nf1*r + nf1 + nf2*r + nf2 - 5*nf3*r - 5*nf3 + nm1*r + nm1 + nm2*r + nm2 - 5*nm3*r - 5*nm3),\n",
       " zo: (nf1*tf**2*xs + 7*nf1*tf*tm*xs - 8*nf1*tf*xo - 2*nf1*tf*xs + 2*nf1*tm**2*xs - 3*nf1*tm*xo - 8*nf1*tm*xs + 6*nf2*tf**2*xs + 2*nf2*tf*tm*xs - 8*nf2*tf*xo - 7*nf2*tf*xs + 2*nf2*tm**2*xs - 3*nf2*tm*xo - 3*nf2*tm*xs - 5*nf3*tf*xo + nm1*tf**2*xs + 7*nm1*tf*tm*xs - 3*nm1*tf*xo - 7*nm1*tf*xs + 2*nm1*tm**2*xs - 8*nm1*tm*xo - 3*nm1*tm*xs + nm2*tf**2*xs + 2*nm2*tf*tm*xs - 3*nm2*tf*xo - 2*nm2*tf*xs + 7*nm2*tm**2*xs - 8*nm2*tm*xo - 8*nm2*tm*xs - 5*nm3*tm*xo)/(nf1*r + nf1 + nf2*r + nf2 - 5*nf3*r - 5*nf3 + nm1*r + nm1 + nm2*r + nm2 - 5*nm3*r - 5*nm3),\n",
       " Gam3: (nf1*tf**2*xs + 7*nf1*tf*tm*xs - 8*nf1*tf*xo - 2*nf1*tf*xs + 2*nf1*tm**2*xs - 2*nf1*tm*xo - 8*nf1*tm*xs + 6*nf2*tf**2*xs + 2*nf2*tf*tm*xs - 8*nf2*tf*xo - 7*nf2*tf*xs + 2*nf2*tm**2*xs - 2*nf2*tm*xo - 3*nf2*tm*xs - 5*nf3*tf*xo - 5*nf3*tm*xo + nm1*tf**2*xs + 7*nm1*tf*tm*xs - 3*nm1*tf*xo - 7*nm1*tf*xs + 2*nm1*tm**2*xs - 7*nm1*tm*xo - 3*nm1*tm*xs + nm2*tf**2*xs + 2*nm2*tf*tm*xs - 3*nm2*tf*xo - 2*nm2*tf*xs + 7*nm2*tm**2*xs - 7*nm2*tm*xo - 8*nm2*tm*xs - 10*nm3*tm*xo)/(nf1*r + nf1 + nf2*r + nf2 - 5*nf3*r - 5*nf3 + nm1*r + nm1 + nm2*r + nm2 - 5*nm3*r - 5*nm3),\n",
       " Gaf1: (-2*nf1*tf*tm*xs + 2*nf1*tf*xo + 2*nf1*tm*xs - nf2*tf**2*xs - nf2*tf*tm*xs + 2*nf2*tf*xo + nf2*tf*xs + nf2*tm*xs - nf3*tf**2*xs + 3*nf3*tf*tm*xs - nf3*tf*xo + 2*nf3*tf*xs - 2*nf3*tm**2*xs + 3*nf3*tm*xo - 2*nf3*tm*xs - 2*nm1*tf*tm*xs + nm1*tf*xo + nm1*tf*xs + nm1*tm*xo + nm1*tm*xs - nm2*tf*tm*xs + nm2*tf*xo - nm2*tm**2*xs + nm2*tm*xo + 2*nm2*tm*xs - nm3*tf**2*xs + 3*nm3*tf*tm*xs - 2*nm3*tf*xo + 2*nm3*tf*xs - 2*nm3*tm**2*xs + 4*nm3*tm*xo - 2*nm3*tm*xs)/(nf1*r + nf1 + nf2*r + nf2 - 5*nf3*r - 5*nf3 + nm1*r + nm1 + nm2*r + nm2 - 5*nm3*r - 5*nm3)}"
      ]
     },
     "execution_count": 3,
     "metadata": {},
     "output_type": "execute_result"
    }
   ],
   "source": [
    "solve(( Gam1-((1-tm)*tf*xs+tm*xo)/(1+r)-zo-zs, Gam2-((1-tm)*tm*xs+tm*xo)/(1+r)-zo-zs, Gam3-(tm*xo)/(1+r)-zo, Gaf1-((1-tf)*tm*xs+tf*xo)/(1+r)-zo-zs, Gaf2-((1-tf)*tf*xs+tf*xo)/(1+r)-zo-zs, Gaf3-(tf*xo)/(1+r)-zo,\n",
    "((nm1+nm2+nm3+nf1+nf2+nf3)*zo+(nm1+nm2+nf1+nf2)*zs)*(1+r) - xo*(tm*(nm1+nm2+nm3)+tf*(nf1+nf2+nf3))-xs*(nm1*(1-tm)*tf+nm2*(1-tm)*tm + nf1*(1-tf)*tm+nf2*(1-tf)*tf),Gam1+Gam2+Gam2+Gaf1+Gaf2+Gaf3), [Gam1,Gam2,Gam3,Gaf1,Gaf2,Gaf3,zo,zs])\n",
    "\n"
   ]
  },
  {
   "cell_type": "markdown",
   "metadata": {},
   "source": [
    "This is a simultaneous solution for all generational accounts for all groups of participants, using full-funding budget constraint for defined benefit."
   ]
  },
  {
   "cell_type": "code",
   "execution_count": 4,
   "metadata": {
    "collapsed": true
   },
   "outputs": [],
   "source": [
    "#Defined Benefit\n",
    "#xs>0 , xo>0\n",
    "nm1= 31253524\n",
    "nm2= 377903\n",
    "nm3= 26818077\n",
    "nf1= 31253524\n",
    "nf2= 405197\n",
    "nf3= 26818077\n",
    "tf=  0.8\n",
    "tm= 0.72\n",
    "r= 0.001\n"
   ]
  },
  {
   "cell_type": "code",
   "execution_count": 5,
   "metadata": {
    "collapsed": false
   },
   "outputs": [
    {
     "data": {
      "text/plain": [
       "{Gaf2: -0.826607290196824*xo - 0.140450662783102*xs,\n",
       " zs: -5.19940398094118*xo - 0.871475205469842*xs,\n",
       " Gam1: -0.906527370116904*xo - 0.0765145988470381*xs,\n",
       " Gaf3: 4.37279669074436*xo + 0.57118438284658*xs,\n",
       " Gam2: -0.906527370116904*xo - 0.0988922212246609*xs,\n",
       " zo: 3.57359589154356*xo + 0.57118438284658*xs,\n",
       " Gam3: 4.29287661082428*xo + 0.57118438284658*xs,\n",
       " Gaf1: -0.826607290196824*xo - 0.156434678767118*xs}"
      ]
     },
     "execution_count": 5,
     "metadata": {},
     "output_type": "execute_result"
    }
   ],
   "source": [
    "solve(( Gam1-((1-tm)*tf*xs+tm*xo)/(1+r)-zo-zs, Gam2-((1-tm)*tm*xs+tm*xo)/(1+r)-zo-zs, Gam3-(tm*xo)/(1+r)-zo, Gaf1-((1-tf)*tm*xs+tf*xo)/(1+r)-zo-zs, Gaf2-((1-tf)*tf*xs+tf*xo)/(1+r)-zo-zs, Gaf3-(tf*xo)/(1+r)-zo,\n",
    "((nm1+nm2+nm3+nf1+nf2+nf3)*zo+(nm1+nm2+nf1+nf2)*zs)*(1+r) - xo*(tm*(nm1+nm2+nm3)+tf*(nf1+nf2+nf3))-xs*(nm1*(1-tm)*tf+nm2*(1-tm)*tm + nf1*(1-tf)*tm+nf2*(1-tf)*tf),Gam1+Gam2+Gam2+Gaf1+Gaf2+Gaf3), [Gam1,Gam2,Gam3,Gaf1,Gaf2,Gaf3,zo,zs])\n",
    "\n"
   ]
  },
  {
   "cell_type": "markdown",
   "metadata": {},
   "source": [
    "In the defined benefit scheme, everyone sees a loss except the single female and male participants. Since the life expectancy of female is higher than male, female’s surplus in their generational account is larger than males’ surplus. Among the married male participants, deficit in the generational account is larger for males who are in a homosexual relationship compared to male participants who are in a heterosexual relationship. The deficit in generational account of females who are in a heterosexual relationship is larger than females who are in a homosexual relationship. Between married heterosexual male and married heterosexual female, both groups are losing, but which group has a larger loss is ambiguous and depends on the defined benefit rate of the survivor and old age pension. This case also applies to homosexual male and female. The result is ambiguous."
   ]
  },
  {
   "cell_type": "markdown",
   "metadata": {},
   "source": [
    "#### Defined Contribution"
   ]
  },
  {
   "cell_type": "code",
   "execution_count": 6,
   "metadata": {
    "collapsed": true
   },
   "outputs": [],
   "source": [
    "nm1= Symbol('nm1')\n",
    "nm2=  Symbol('nm2')\n",
    "nm3= Symbol('nm3')\n",
    "nf1=  Symbol('nf1')\n",
    "nf2=  Symbol('nf2')\n",
    "nf3=  Symbol('nf3')\n",
    "tf=  Symbol('tf')\n",
    "tm= Symbol('tm')\n",
    "xs= Symbol('xs')\n",
    "xo= Symbol('xo')\n",
    "r= Symbol('r')\n",
    "zs=  Symbol('zs')\n",
    "zo= Symbol('zo')\n",
    "Gam1= Symbol('Gam1')\n",
    "Gam2= Symbol('Gam2')\n",
    "Gam3= Symbol('Gam3')\n",
    "Gaf1= Symbol('Gaf1')\n",
    "Gaf2= Symbol('Gaf2')\n",
    "Gaf3= Symbol('Gaf3')"
   ]
  },
  {
   "cell_type": "code",
   "execution_count": 7,
   "metadata": {
    "collapsed": false
   },
   "outputs": [
    {
     "data": {
      "text/plain": [
       "{Gaf2: (-7*nf1*tf**3*zo - 6*nf1*tf**3*zs + 4*nf1*tf**2*tm*zo + 3*nf1*tf**2*tm*zs + 5*nf1*tf**2*zo + 4*nf1*tf**2*zs + nf1*tf*tm**2*zo + nf1*tf*tm**2*zs - 6*nf1*tf*tm*zo - 5*nf1*tf*tm*zs + 3*nf1*tm**2*zo + 3*nf1*tm**2*zs - 4*nf2*tf**3*zo - 4*nf2*tf**3*zs - 2*nf2*tf**2*tm*zo - 2*nf2*tf**2*tm*zs + 2*nf2*tf**2*zo + 2*nf2*tf**2*zs + 4*nf2*tf*tm**2*zo + 4*nf2*tf*tm**2*zs - 7*nf3*tf**3*zo - 4*nf3*tf**3*zs + nf3*tf**2*tm*zo + 2*nf3*tf**2*tm*zs + 5*nf3*tf**2*zo + 3*nf3*tf**2*zs + 4*nf3*tf*tm**2*zo + 2*nf3*tf*tm**2*zs - 3*nf3*tf*tm*zo - 3*nf3*tf*tm*zs - 2*nm1*tf**3*zo - 2*nm1*tf**3*zs - 3*nm1*tf**2*tm*zo - 3*nm1*tf**2*tm*zs - 2*nm1*tf**2*zo - nm1*tf**2*zs + nm1*tf*tm**2*zo + nm1*tf*tm**2*zs + 7*nm1*tf*tm*zo + 6*nm1*tf*tm*zs + 2*nm1*tm**3*zo + 2*nm1*tm**3*zs - 3*nm1*tm**2*zo - 3*nm1*tm**2*zs - 2*nm2*tf**3*zo - 2*nm2*tf**3*zs - 6*nm2*tf**2*tm*zo - 5*nm2*tf**2*tm*zs + nm2*tf**2*zo + nm2*tf**2*zs + 7*nm2*tf*tm**2*zo + 6*nm2*tf*tm**2*zs + nm2*tf*tm*zo + nm2*tf*tm*zs - nm2*tm**3*zo - nm2*tm**3*zs - 2*nm3*tf**3*zo - 6*nm3*tf**2*tm*zo - 4*nm3*tf**2*tm*zs + nm3*tf**2*zo + 4*nm3*tf*tm**2*zo + 2*nm3*tf*tm**2*zs + 4*nm3*tf*tm*zo + 3*nm3*tf*tm*zs + 2*nm3*tm**3*zo + 2*nm3*tm**3*zs - 3*nm3*tm**2*zo - 3*nm3*tm**2*zs)/(nf1*tf**3 - nf1*tf**2*tm - 2*nf1*tf**2 - nf1*tf*tm**2 + 3*nf1*tm**2 - 2*nf2*tf**3 - nf2*tf**2*tm + nf2*tf**2 + 2*nf2*tf*tm**2 + nf3*tf**3 + 2*nf3*tf**2*tm - 2*nf3*tf**2 + 2*nf3*tf*tm**2 - 3*nf3*tf*tm - 2*nm1*tf**2*tm + 3*nm1*tf**2 - nm1*tf*tm**2 + nm1*tf*tm + 2*nm1*tm**3 - 3*nm1*tm**2 + nm2*tf**2*tm - nm2*tf*tm**2 + nm2*tf*tm - nm2*tm**3 + nm3*tf**2*tm + 2*nm3*tf*tm**2 - 2*nm3*tf*tm + 2*nm3*tm**3 - 3*nm3*tm**2),\n",
       " Gam1: (nf1*tf**3*zo + nf1*tf**3*zs - 9*nf1*tf**2*tm*zo - 8*nf1*tf**2*tm*zs + 7*nf1*tf**2*zo + 6*nf1*tf**2*zs + 4*nf1*tf*tm**2*zo + 3*nf1*tf*tm**2*zs + nf1*tf*tm*zo + nf1*tf*tm*zs + 2*nf1*tm**3*zo + 2*nf1*tm**3*zs - 6*nf1*tm**2*zo - 5*nf1*tm**2*zs - 2*nf2*tf**3*zo - 2*nf2*tf**3*zs - 3*nf2*tf**2*tm*zo - 3*nf2*tf**2*tm*zs + 10*nf2*tf**2*zo + 9*nf2*tf**2*zs + nf2*tf*tm**2*zo + nf2*tf*tm**2*zs - 5*nf2*tf*tm*zo - 4*nf2*tf*tm*zs + 2*nf2*tm**3*zo + 2*nf2*tm**3*zs - 3*nf2*tm**2*zo - 3*nf2*tm**2*zs + nf3*tf**3*zo + nf3*tf**3*zs - 6*nf3*tf**2*tm*zo - 3*nf3*tf**2*tm*zs + 7*nf3*tf**2*zo + 3*nf3*tf**2*zs + nf3*tf*tm**2*zo + 2*nf3*tf*tm**2*zs - 2*nf3*tf*tm*zo - 3*nf3*tf*tm*zs + 2*nf3*tm**3*zo - 3*nf3*tm**2*zo - 4*nm1*tf**2*tm*zo - 4*nm1*tf**2*tm*zs + 6*nm1*tf**2*zo + 6*nm1*tf**2*zs - 2*nm1*tf*tm**2*zo - 2*nm1*tf*tm**2*zs + 2*nm1*tf*tm*zo + 2*nm1*tf*tm*zs + 4*nm1*tm**3*zo + 4*nm1*tm**3*zs - 6*nm1*tm**2*zo - 6*nm1*tm**2*zs - nm2*tf**2*tm*zo - nm2*tf**2*tm*zs + 3*nm2*tf**2*zo + 3*nm2*tf**2*zs - 8*nm2*tf*tm**2*zo - 7*nm2*tf*tm**2*zs + 8*nm2*tf*tm*zo + 7*nm2*tf*tm*zs + 7*nm2*tm**3*zo + 6*nm2*tm**3*zs - 9*nm2*tm**2*zo - 8*nm2*tm**2*zs - nm3*tf**2*tm*zo + nm3*tf**2*tm*zs + 3*nm3*tf**2*zo - 5*nm3*tf*tm**2*zo - 3*nm3*tf*tm**2*zs + 5*nm3*tf*tm*zo + 3*nm3*tf*tm*zs + 4*nm3*tm**3*zo + 2*nm3*tm**3*zs - 6*nm3*tm**2*zo - 3*nm3*tm**2*zs)/(nf1*tf**3 - nf1*tf**2*tm - 2*nf1*tf**2 - nf1*tf*tm**2 + 3*nf1*tm**2 - 2*nf2*tf**3 - nf2*tf**2*tm + nf2*tf**2 + 2*nf2*tf*tm**2 + nf3*tf**3 + 2*nf3*tf**2*tm - 2*nf3*tf**2 + 2*nf3*tf*tm**2 - 3*nf3*tf*tm - 2*nm1*tf**2*tm + 3*nm1*tf**2 - nm1*tf*tm**2 + nm1*tf*tm + 2*nm1*tm**3 - 3*nm1*tm**2 + nm2*tf**2*tm - nm2*tf*tm**2 + nm2*tf*tm - nm2*tm**3 + nm3*tf**2*tm + 2*nm3*tf*tm**2 - 2*nm3*tf*tm + 2*nm3*tm**3 - 3*nm3*tm**2),\n",
       " Gaf3: (2*nf1*tf**3*zo + nf1*tf**3*zs + 7*nf1*tf**2*tm*zo + 7*nf1*tf**2*tm*zs - 4*nf1*tf**2*zo - 2*nf1*tf**2*zs + nf1*tf*tm**2*zo + 2*nf1*tf*tm**2*zs - 9*nf1*tf*tm*zo - 8*nf1*tf*tm*zs + 3*nf1*tm**2*zo + 5*nf2*tf**3*zo + 6*nf2*tf**3*zs + nf2*tf**2*tm*zo + 2*nf2*tf**2*tm*zs - 7*nf2*tf**2*zo - 7*nf2*tf**2*zs + 4*nf2*tf*tm**2*zo + 2*nf2*tf*tm**2*zs - 3*nf2*tf*tm*zo - 3*nf2*tf*tm*zs + 2*nf3*tf**3*zo + 4*nf3*tf**2*tm*zo - 4*nf3*tf**2*zo + 4*nf3*tf*tm**2*zo - 6*nf3*tf*tm*zo + nm1*tf**3*zo + nm1*tf**3*zs + 6*nm1*tf**2*tm*zo + 7*nm1*tf**2*tm*zs - 5*nm1*tf**2*zo - 7*nm1*tf**2*zs + nm1*tf*tm**2*zo + 2*nm1*tf*tm**2*zs - 2*nm1*tf*tm*zo - 3*nm1*tf*tm*zs + 2*nm1*tm**3*zo - 3*nm1*tm**2*zo + nm2*tf**3*zo + nm2*tf**3*zs + 3*nm2*tf**2*tm*zo + 2*nm2*tf**2*tm*zs - 2*nm2*tf**2*zo - 2*nm2*tf**2*zs + 7*nm2*tf*tm**2*zo + 7*nm2*tf*tm**2*zs - 8*nm2*tf*tm*zo - 8*nm2*tf*tm*zs - nm2*tm**3*zo + nm3*tf**3*zo + 3*nm3*tf**2*tm*zo - 2*nm3*tf**2*zo + 4*nm3*tf*tm**2*zo - 5*nm3*tf*tm*zo + 2*nm3*tm**3*zo - 3*nm3*tm**2*zo)/(nf1*tf**3 - nf1*tf**2*tm - 2*nf1*tf**2 - nf1*tf*tm**2 + 3*nf1*tm**2 - 2*nf2*tf**3 - nf2*tf**2*tm + nf2*tf**2 + 2*nf2*tf*tm**2 + nf3*tf**3 + 2*nf3*tf**2*tm - 2*nf3*tf**2 + 2*nf3*tf*tm**2 - 3*nf3*tf*tm - 2*nm1*tf**2*tm + 3*nm1*tf**2 - nm1*tf*tm**2 + nm1*tf*tm + 2*nm1*tm**3 - 3*nm1*tm**2 + nm2*tf**2*tm - nm2*tf*tm**2 + nm2*tf*tm - nm2*tm**3 + nm3*tf**2*tm + 2*nm3*tf*tm**2 - 2*nm3*tf*tm + 2*nm3*tm**3 - 3*nm3*tm**2),\n",
       " Gam2: (nf1*tf**3*zo + nf1*tf**3*zs - 2*nf1*tf**2*zo - 2*nf1*tf**2*zs - 2*nf1*tf*tm**2*zo - 2*nf1*tf*tm**2*zs + 7*nf1*tf*tm*zo + 6*nf1*tf*tm*zs - nf1*tm**3*zo - nf1*tm**3*zs - 3*nf1*tm**2*zo - 2*nf1*tm**2*zs - 2*nf2*tf**3*zo - 2*nf2*tf**3*zs + 6*nf2*tf**2*tm*zo + 5*nf2*tf**2*tm*zs + nf2*tf**2*zo + nf2*tf**2*zs - 5*nf2*tf*tm**2*zo - 4*nf2*tf*tm**2*zs + nf2*tf*tm*zo + nf2*tf*tm*zs - nf2*tm**3*zo - nf2*tm**3*zs + nf3*tf**3*zo + nf3*tf**3*zs + 3*nf3*tf**2*tm*zo + 2*nf3*tf**2*tm*zs - 2*nf3*tf**2*zo - 2*nf3*tf**2*zs - 5*nf3*tf*tm**2*zo - 3*nf3*tf*tm**2*zs + 4*nf3*tf*tm*zo + 2*nf3*tf*tm*zs - nf3*tm**3*zo - nm1*tf**2*tm*zo - nm1*tf**2*tm*zs + 3*nm1*tf**2*zo + 3*nm1*tf**2*zs + 4*nm1*tf*tm**2*zo + 3*nm1*tf*tm**2*zs - 4*nm1*tf*tm*zo - 3*nm1*tf*tm*zs - 5*nm1*tm**3*zo - 4*nm1*tm**3*zs + 3*nm1*tm**2*zo + 2*nm1*tm**2*zs + 2*nm2*tf**2*tm*zo + 2*nm2*tf**2*tm*zs - 2*nm2*tf*tm**2*zo - 2*nm2*tf*tm**2*zs + 2*nm2*tf*tm*zo + 2*nm2*tf*tm*zs - 2*nm2*tm**3*zo - 2*nm2*tm**3*zs + 2*nm3*tf**2*tm*zo + nm3*tf**2*tm*zs + nm3*tf*tm**2*zo + 2*nm3*tf*tm**2*zs - nm3*tf*tm*zo - 2*nm3*tf*tm*zs - 5*nm3*tm**3*zo - 3*nm3*tm**3*zs + 3*nm3*tm**2*zo + 2*nm3*tm**2*zs)/(nf1*tf**3 - nf1*tf**2*tm - 2*nf1*tf**2 - nf1*tf*tm**2 + 3*nf1*tm**2 - 2*nf2*tf**3 - nf2*tf**2*tm + nf2*tf**2 + 2*nf2*tf*tm**2 + nf3*tf**3 + 2*nf3*tf**2*tm - 2*nf3*tf**2 + 2*nf3*tf*tm**2 - 3*nf3*tf*tm - 2*nm1*tf**2*tm + 3*nm1*tf**2 - nm1*tf*tm**2 + nm1*tf*tm + 2*nm1*tm**3 - 3*nm1*tm**2 + nm2*tf**2*tm - nm2*tf*tm**2 + nm2*tf*tm - nm2*tm**3 + nm3*tf**2*tm + 2*nm3*tf*tm**2 - 2*nm3*tf*tm + 2*nm3*tm**3 - 3*nm3*tm**2),\n",
       " xs: (9*nf1*r*tf*zo + 8*nf1*r*tf*zs + 3*nf1*r*tm*zo + 3*nf1*r*tm*zs + 9*nf1*tf*zo + 8*nf1*tf*zs + 3*nf1*tm*zo + 3*nf1*tm*zs + 9*nf2*r*tf*zo + 8*nf2*r*tf*zs + 3*nf2*r*tm*zo + 3*nf2*r*tm*zs + 9*nf2*tf*zo + 8*nf2*tf*zs + 3*nf2*tm*zo + 3*nf2*tm*zs + 9*nf3*r*tf*zo + 5*nf3*r*tf*zs + 3*nf3*r*tm*zo + 9*nf3*tf*zo + 5*nf3*tf*zs + 3*nf3*tm*zo + 3*nm1*r*tf*zo + 3*nm1*r*tf*zs + 9*nm1*r*tm*zo + 8*nm1*r*tm*zs + 3*nm1*tf*zo + 3*nm1*tf*zs + 9*nm1*tm*zo + 8*nm1*tm*zs + 3*nm2*r*tf*zo + 3*nm2*r*tf*zs + 9*nm2*r*tm*zo + 8*nm2*r*tm*zs + 3*nm2*tf*zo + 3*nm2*tf*zs + 9*nm2*tm*zo + 8*nm2*tm*zs + 3*nm3*r*tf*zo + 9*nm3*r*tm*zo + 5*nm3*r*tm*zs + 3*nm3*tf*zo + 9*nm3*tm*zo + 5*nm3*tm*zs)/(nf1*tf**3 - nf1*tf**2*tm - 2*nf1*tf**2 - nf1*tf*tm**2 + 3*nf1*tm**2 - 2*nf2*tf**3 - nf2*tf**2*tm + nf2*tf**2 + 2*nf2*tf*tm**2 + nf3*tf**3 + 2*nf3*tf**2*tm - 2*nf3*tf**2 + 2*nf3*tf*tm**2 - 3*nf3*tf*tm - 2*nm1*tf**2*tm + 3*nm1*tf**2 - nm1*tf*tm**2 + nm1*tf*tm + 2*nm1*tm**3 - 3*nm1*tm**2 + nm2*tf**2*tm - nm2*tf*tm**2 + nm2*tf*tm - nm2*tm**3 + nm3*tf**2*tm + 2*nm3*tf*tm**2 - 2*nm3*tf*tm + 2*nm3*tm**3 - 3*nm3*tm**2),\n",
       " Gam3: (nf1*tf**3*zo + nf1*tf**2*tm*zs - 2*nf1*tf**2*zo + 7*nf1*tf*tm**2*zo + 7*nf1*tf*tm**2*zs - 2*nf1*tf*tm*zo - 2*nf1*tf*tm*zs + 2*nf1*tm**3*zo + 2*nf1*tm**3*zs - 6*nf1*tm**2*zo - 8*nf1*tm**2*zs - 2*nf2*tf**3*zo + 6*nf2*tf**2*tm*zo + 6*nf2*tf**2*tm*zs + nf2*tf**2*zo + 4*nf2*tf*tm**2*zo + 2*nf2*tf*tm**2*zs - 8*nf2*tf*tm*zo - 7*nf2*tf*tm*zs + 2*nf2*tm**3*zo + 2*nf2*tm**3*zs - 3*nf2*tm**2*zo - 3*nf2*tm**2*zs + nf3*tf**3*zo + 3*nf3*tf**2*tm*zo - 2*nf3*tf**2*zo + 4*nf3*tf*tm**2*zo - 5*nf3*tf*tm*zo + 2*nf3*tm**3*zo - 3*nf3*tm**2*zo - nm1*tf**2*tm*zo + nm1*tf**2*tm*zs + 3*nm1*tf**2*zo + 7*nm1*tf*tm**2*zo + 7*nm1*tf*tm**2*zs - 7*nm1*tf*tm*zo - 7*nm1*tf*tm*zs + 4*nm1*tm**3*zo + 2*nm1*tm**3*zs - 6*nm1*tm**2*zo - 3*nm1*tm**2*zs + 2*nm2*tf**2*tm*zo + nm2*tf**2*tm*zs + nm2*tf*tm**2*zo + 2*nm2*tf*tm**2*zs - nm2*tf*tm*zo - 2*nm2*tf*tm*zs + 7*nm2*tm**3*zo + 7*nm2*tm**3*zs - 9*nm2*tm**2*zo - 8*nm2*tm**2*zs + 2*nm3*tf**2*tm*zo + 4*nm3*tf*tm**2*zo - 4*nm3*tf*tm*zo + 4*nm3*tm**3*zo - 6*nm3*tm**2*zo)/(nf1*tf**3 - nf1*tf**2*tm - 2*nf1*tf**2 - nf1*tf*tm**2 + 3*nf1*tm**2 - 2*nf2*tf**3 - nf2*tf**2*tm + nf2*tf**2 + 2*nf2*tf*tm**2 + nf3*tf**3 + 2*nf3*tf**2*tm - 2*nf3*tf**2 + 2*nf3*tf*tm**2 - 3*nf3*tf*tm - 2*nm1*tf**2*tm + 3*nm1*tf**2 - nm1*tf*tm**2 + nm1*tf*tm + 2*nm1*tm**3 - 3*nm1*tm**2 + nm2*tf**2*tm - nm2*tf*tm**2 + nm2*tf*tm - nm2*tm**3 + nm3*tf**2*tm + 2*nm3*tf*tm**2 - 2*nm3*tf*tm + 2*nm3*tm**3 - 3*nm3*tm**2),\n",
       " Gaf1: (2*nf1*tf**3*zo + 2*nf1*tf**3*zs - 2*nf1*tf**2*tm*zo - 2*nf1*tf**2*tm*zs - 4*nf1*tf**2*zo - 4*nf1*tf**2*zs - 2*nf1*tf*tm**2*zo - 2*nf1*tf*tm**2*zs + 6*nf1*tm**2*zo + 6*nf1*tm**2*zs + 5*nf2*tf**3*zo + 4*nf2*tf**3*zs - 8*nf2*tf**2*tm*zo - 7*nf2*tf**2*tm*zs - 7*nf2*tf**2*zo - 6*nf2*tf**2*zs + nf2*tf*tm**2*zo + nf2*tf*tm**2*zs + 6*nf2*tf*tm*zo + 5*nf2*tf*tm*zs + 3*nf2*tm**2*zo + 3*nf2*tm**2*zs + 2*nf3*tf**3*zo + nf3*tf**3*zs - 5*nf3*tf**2*tm*zo - 3*nf3*tf**2*tm*zs - 4*nf3*tf**2*zo - 2*nf3*tf**2*zs + nf3*tf*tm**2*zo + 2*nf3*tf*tm**2*zs + 3*nf3*tf*tm*zo + 2*nf3*tf*tm*zs + 3*nf3*tm**2*zo + nm1*tf**3*zo + nm1*tf**3*zs + 3*nm1*tf**2*tm*zo + 2*nm1*tf**2*tm*zs - 5*nm1*tf**2*zo - 4*nm1*tf**2*zs - 8*nm1*tf*tm**2*zo - 7*nm1*tf*tm**2*zs + nm1*tf*tm*zo + nm1*tf*tm*zs + 2*nm1*tm**3*zo + 2*nm1*tm**3*zs + 6*nm1*tm**2*zo + 5*nm1*tm**2*zs + nm2*tf**3*zo + nm2*tf**3*zs - 2*nm2*tf**2*zo - 2*nm2*tf**2*zs - 2*nm2*tf*tm**2*zo - 2*nm2*tf*tm**2*zs - 5*nm2*tf*tm*zo - 4*nm2*tf*tm*zs - nm2*tm**3*zo - nm2*tm**3*zs + 9*nm2*tm**2*zo + 8*nm2*tm**2*zs + nm3*tf**3*zo + nm3*tf**2*tm*zs - 2*nm3*tf**2*zo - 5*nm3*tf*tm**2*zo - 3*nm3*tf*tm**2*zs - 2*nm3*tf*tm*zo - 2*nm3*tf*tm*zs + 2*nm3*tm**3*zo + 2*nm3*tm**3*zs + 6*nm3*tm**2*zo + 2*nm3*tm**2*zs)/(nf1*tf**3 - nf1*tf**2*tm - 2*nf1*tf**2 - nf1*tf*tm**2 + 3*nf1*tm**2 - 2*nf2*tf**3 - nf2*tf**2*tm + nf2*tf**2 + 2*nf2*tf*tm**2 + nf3*tf**3 + 2*nf3*tf**2*tm - 2*nf3*tf**2 + 2*nf3*tf*tm**2 - 3*nf3*tf*tm - 2*nm1*tf**2*tm + 3*nm1*tf**2 - nm1*tf*tm**2 + nm1*tf*tm + 2*nm1*tm**3 - 3*nm1*tm**2 + nm2*tf**2*tm - nm2*tf*tm**2 + nm2*tf*tm - nm2*tm**3 + nm3*tf**2*tm + 2*nm3*tf*tm**2 - 2*nm3*tf*tm + 2*nm3*tm**3 - 3*nm3*tm**2),\n",
       " xo: (zo*(r + 1)**6*(nf1*tf*tm - nf1*tm + nf2*tf**2 - nf2*tf + nm1*tf*tm - nm1*tf + nm2*tm**2 - nm2*tm) + 5*(r + 1)**5*(r*zo + r*zs + zo + zs)*(nf1*tf*tm - nf1*tm + nf2*tf**2 - nf2*tf + nm1*tf*tm - nm1*tf + nm2*tm**2 - nm2*tm) + (nf1*r*zo + nf1*r*zs + nf1*zo + nf1*zs + nf2*r*zo + nf2*r*zs + nf2*zo + nf2*zs + nf3*r*zo + nf3*zo + nm1*r*zo + nm1*r*zs + nm1*zo + nm1*zs + nm2*r*zo + nm2*r*zs + nm2*zo + nm2*zs + nm3*r*zo + nm3*zo)*(r*tf*(r + 1)**4*(tf - 1) + r*tf*(r + 1)**4*(tm - 1) + r*tf*(r + 1)**3*(tm - 1) + r*tf*(r + 1)**2*(tm - 1) + r*tf*(r + 1)*(tm - 1) + r*tf*(tm - 1) + r*tm*(r + 1)**4*(tf - 1) + 2*r*tm*(r + 1)**4*(tm - 1) + r*tm*(r + 1)**3*(tf - 1) + 2*r*tm*(r + 1)**3*(tm - 1) + 2*r*tm*(r + 1)**2*(tm - 1) + 2*r*tm*(r + 1)*(tm - 1) + tf**2*(r + 1)**4 + tf*tm*(r + 1)**3 + tf*tm - tf*(r + 1)**4 - tf + 2*tm**2*(r + 1) - tm*(r + 1)**3 - 2*tm*(r + 1)))/((r + 1)**5*(-3*nf1*tf**2*tm + nf1*tf**2*(tf - 1) + nf1*tf**2*(tm - 1) - 3*nf1*tf*tm**2 + nf1*tf*tm*(tf - 1) + 2*nf1*tf*tm*(tm - 1) + 3*nf1*tf*tm + 3*nf1*tm**2 - 3*nf2*tf**3 - 3*nf2*tf**2*tm + nf2*tf**2*(tf - 1) + nf2*tf**2*(tm - 1) + 3*nf2*tf**2 + nf2*tf*tm*(tf - 1) + 2*nf2*tf*tm*(tm - 1) + 3*nf2*tf*tm + nf3*tf**2*(tf - 1) + nf3*tf**2*(tm - 1) + nf3*tf*tm*(tf - 1) + 2*nf3*tf*tm*(tm - 1) - 3*nm1*tf**2*tm + 3*nm1*tf**2 - 3*nm1*tf*tm**2 + nm1*tf*tm*(tf - 1) + nm1*tf*tm*(tm - 1) + 3*nm1*tf*tm + nm1*tm**2*(tf - 1) + 2*nm1*tm**2*(tm - 1) - 3*nm2*tf*tm**2 + nm2*tf*tm*(tf - 1) + nm2*tf*tm*(tm - 1) + 3*nm2*tf*tm - 3*nm2*tm**3 + nm2*tm**2*(tf - 1) + 2*nm2*tm**2*(tm - 1) + 3*nm2*tm**2 + nm3*tf*tm*(tf - 1) + nm3*tf*tm*(tm - 1) + nm3*tm**2*(tf - 1) + 2*nm3*tm**2*(tm - 1)))}"
      ]
     },
     "execution_count": 7,
     "metadata": {},
     "output_type": "execute_result"
    }
   ],
   "source": [
    "solve(( Gam1-((1-tm)*tf*xs+tm*xo)/(1+r)-zo-zs, Gam2-((1-tm)*tm*xs+tm*xo)/(1+r)-zo-zs, Gam3-(tm*xo)/(1+r)-zo, Gaf1-((1-tf)*tm*xs+tf*xo)/(1+r)-zo-zs, Gaf2-((1-tf)*tf*xs+tf*xo)/(1+r)-zo-zs, Gaf3-(tf*xo)/(1+r)-zo,\n",
    "((nm1+nm2+nm3+nf1+nf2+nf3)*zo+(nm1+nm2+nf1+nf2)*zs)*(1+r) - xo*(tm*(nm1+nm2+nm3)+tf*(nf1+nf2+nf3))-xs*(nm1*(1-tm)*tf+nm2*(1-tm)*tm + nf1*(1-tf)*tm+nf2*(1-tf)*tf),Gam1+Gam2+Gam2+Gaf1+Gaf2+Gaf3), [Gam1,Gam2,Gam3,Gaf1,Gaf2,Gaf3,xo,xs])\n",
    "\n"
   ]
  },
  {
   "cell_type": "markdown",
   "metadata": {},
   "source": [
    "This is a simultaneous solution for all generational accounts for all groups of participants, using full-funding budget constraint for defined contribution."
   ]
  },
  {
   "cell_type": "code",
   "execution_count": 8,
   "metadata": {
    "collapsed": true
   },
   "outputs": [],
   "source": [
    "#Defined Contribution\n",
    "#zs>0 , zo>0 \n",
    "nm1= 31253524\n",
    "nm2= 377903\n",
    "nm3= 26818077\n",
    "nf1= 31253524\n",
    "nf2= 405197\n",
    "nf3= 26818077\n",
    "tf=  0.8\n",
    "tm= 0.72\n",
    "r= 0.001\n"
   ]
  },
  {
   "cell_type": "code",
   "execution_count": 9,
   "metadata": {
    "collapsed": false
   },
   "outputs": [
    {
     "data": {
      "text/plain": [
       "{Gaf2: 0.0684651841076215*zo + 0.206037883335173*zs,\n",
       " Gam1: -2.71442945685935*zo - 1.69129896754217*zs,\n",
       " Gaf3: 5.82056142922005*zo + 3.15950400842284*zs,\n",
       " Gam2: -1.9091359825436*zo - 1.13781371002989*zs,\n",
       " Gam3: 5.33850528629805*zo + 2.84355360758056*zs,\n",
       " xs: -35.9865521334846*zo - 24.7338724450797*zs,\n",
       " Gaf1: 0.643674808618865*zo + 0.60138449584394*zs,\n",
       " xo: 6.03172748831159*zo + 3.95332939053908*zs}"
      ]
     },
     "execution_count": 9,
     "metadata": {},
     "output_type": "execute_result"
    }
   ],
   "source": [
    "solve(( Gam1-((1-tm)*tf*xs+tm*xo)/(1+r)-zo-zs, Gam2-((1-tm)*tm*xs+tm*xo)/(1+r)-zo-zs, Gam3-(tm*xo)/(1+r)-zo, Gaf1-((1-tf)*tm*xs+tf*xo)/(1+r)-zo-zs, Gaf2-((1-tf)*tf*xs+tf*xo)/(1+r)-zo-zs, Gaf3-(tf*xo)/(1+r)-zo,\n",
    "((nm1+nm2+nm3+nf1+nf2+nf3)*zo+(nm1+nm2+nf1+nf2)*zs)*(1+r) - xo*(tm*(nm1+nm2+nm3)+tf*(nf1+nf2+nf3))-xs*(nm1*(1-tm)*tf+nm2*(1-tm)*tm + nf1*(1-tf)*tm+nf2*(1-tf)*tf),Gam1+Gam2+Gam2+Gaf1+Gaf2+Gaf3), [Gam1,Gam2,Gam3,Gaf1,Gaf2,Gaf3,xo,xs])\n"
   ]
  },
  {
   "cell_type": "markdown",
   "metadata": {},
   "source": [
    "In the defined contribution scheme, everyone is gaining except the married males (heterosexual and homosexual). The single females receive the most benefits, and the single males receive the second highest benefits. The third highest gain is of the heterosexual females, and the fourth highest gain is of the homosexual females. Heterosexual males lose the most, and after that comes the homosexual males which bear second largest loss. "
   ]
  },
  {
   "cell_type": "markdown",
   "metadata": {},
   "source": [
    "## Conclusion and Discussion"
   ]
  },
  {
   "cell_type": "markdown",
   "metadata": {},
   "source": [
    "\n",
    "In the case of a defined benefit scheme, the result is sensible because the expected male life expectancy is lower. If one is a homosexual male, his partner is likely to die early, therefore he does not receive large survivor benefits. Deficit is larger for heterosexual female couples compared to homosexual females couples, because heterosexual female’s partner’s life expectancy is lower than homosexual female partners. If married females die, partners of homosexual married female are more likely to take the survivor benefits, which creates less deficit for them compared to heterosexual married female. In the case of a defined contribution scheme, all females gain because after all participants contribute to the pension fund, they are more likely to have pension benefit since they have longer life expectancy. Since males are more likely to die, the benefits will be transferred to the woman participants. \n",
    "\n",
    "Interestingly, regardless of the scheme, all male or female singles are gaining. Perhaps, this can be explained that they are only paying contribution for old age pension, and they do not explicitly participate in the survivor pension redistribution. They are also not affected from the gap between male and female life expectancy. Married males (hetero/homosexual) are always losing because of their shorter life expectancy.\n",
    "\n",
    "In conclusion, short life expectancy of males make an impact on the generational accounts of all participants. However, we have witnessed a fair convergence of male and female life expectancies. Therefore, the result could be different in the future depending on how strong the convergence force is. This can be a potential topic for later researches. By and large, the difference between the two sexes do contribute to the difference in generational accounts of all groups of participants. Policy makers, pension funds, and pension participants should take this into account when determining the schemes and the rates, as well as planning their pension for the future.\n"
   ]
  }
 ],
 "metadata": {
  "anaconda-cloud": {},
  "kernelspec": {
   "display_name": "Python [conda root]",
   "language": "python",
   "name": "conda-root-py"
  },
  "language_info": {
   "codemirror_mode": {
    "name": "ipython",
    "version": 3
   },
   "file_extension": ".py",
   "mimetype": "text/x-python",
   "name": "python",
   "nbconvert_exporter": "python",
   "pygments_lexer": "ipython3",
   "version": "3.5.2"
  }
 },
 "nbformat": 4,
 "nbformat_minor": 1
}
